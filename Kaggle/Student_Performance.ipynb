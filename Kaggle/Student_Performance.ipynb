{
 "cells": [
  {
   "cell_type": "code",
   "execution_count": 1,
   "metadata": {},
   "outputs": [],
   "source": [
    "import pandas as pd \n",
    "import numpy as np \n",
    "import matplotlib.pyplot as plt"
   ]
  },
  {
   "cell_type": "code",
   "execution_count": 2,
   "metadata": {},
   "outputs": [],
   "source": [
    "dataset = pd.read_csv(\"StudentsPerformance.csv\")"
   ]
  },
  {
   "cell_type": "code",
   "execution_count": 4,
   "metadata": {
    "scrolled": false
   },
   "outputs": [],
   "source": [
    "X = dataset.iloc[:, [6]]\n",
    "y = dataset.iloc[:, [7]] "
   ]
  },
  {
   "cell_type": "code",
   "execution_count": 6,
   "metadata": {},
   "outputs": [],
   "source": [
    "from sklearn.model_selection import train_test_split\n",
    "X_train, X_test, y_train, y_test = train_test_split(X, y, test_size = 0.2, random_state = 0)"
   ]
  },
  {
   "cell_type": "code",
   "execution_count": 8,
   "metadata": {},
   "outputs": [],
   "source": [
    "from sklearn.tree import DecisionTreeRegressor\n",
    "regressor = DecisionTreeRegressor(random_state = 0)"
   ]
  },
  {
   "cell_type": "code",
   "execution_count": 9,
   "metadata": {
    "scrolled": true
   },
   "outputs": [
    {
     "data": {
      "text/plain": [
       "DecisionTreeRegressor(ccp_alpha=0.0, criterion='mse', max_depth=None,\n",
       "                      max_features=None, max_leaf_nodes=None,\n",
       "                      min_impurity_decrease=0.0, min_impurity_split=None,\n",
       "                      min_samples_leaf=1, min_samples_split=2,\n",
       "                      min_weight_fraction_leaf=0.0, presort='deprecated',\n",
       "                      random_state=0, splitter='best')"
      ]
     },
     "execution_count": 9,
     "metadata": {},
     "output_type": "execute_result"
    }
   ],
   "source": [
    "regressor.fit(X_train, y_train)"
   ]
  },
  {
   "cell_type": "code",
   "execution_count": 12,
   "metadata": {
    "scrolled": true
   },
   "outputs": [
    {
     "name": "stdout",
     "output_type": "stream",
     "text": [
      "[72.76923077 70.66666667 51.2        64.79166667 73.33333333 68.61538462\n",
      " 75.16666667 42.16666667 79.38095238 38.5        49.13333333 69.\n",
      " 77.92857143 76.08333333 57.04166667 42.85714286 50.85714286 85.\n",
      " 57.04166667 79.38095238 58.78947368 52.81818182 76.08333333 54.13333333\n",
      " 40.33333333 58.78947368 54.13333333 50.75       64.79166667 86.22222222\n",
      " 81.4        89.07692308 92.66666667 59.47058824 52.81818182 82.34782609\n",
      " 98.78571429 50.7        76.08333333 75.9        66.04761905 52.85714286\n",
      " 64.79166667 77.92857143 81.375      61.8        86.22222222 64.79166667\n",
      " 91.33333333 61.8        35.33333333 59.47058824 50.85714286 52.85714286\n",
      " 29.5        76.85714286 57.04166667 58.78947368 73.33333333 62.35294118\n",
      " 65.85185185 76.08333333 53.13333333 68.61538462 65.85185185 63.91666667\n",
      " 66.6875     50.7        69.         49.13333333 70.45454545 75.16666667\n",
      " 70.66666667 66.6875     49.13333333 59.47058824 75.16666667 69.\n",
      " 27.         77.92857143 76.85714286 89.72727273 69.         85.9375\n",
      " 69.         70.45454545 65.85185185 89.5        73.33333333 58.78947368\n",
      " 72.76923077 66.6875     63.91666667 54.13333333 72.76923077 72.26315789\n",
      " 50.75       69.         58.78947368 59.47058824 40.33333333 81.4\n",
      " 58.78947368 44.         76.85714286 79.38095238 72.26315789 58.78947368\n",
      " 57.58333333 79.38095238 69.         76.08333333 29.5        51.2\n",
      " 69.         75.16666667 76.08333333 72.26315789 81.4        61.8\n",
      " 54.13333333 82.34782609 92.66666667 76.08333333 70.66666667 64.79166667\n",
      " 70.66666667 76.85714286 68.61538462 61.8        66.04761905 69.\n",
      " 10.         82.34782609 83.76470588 61.8        66.6875     65.85185185\n",
      " 69.         82.34782609 72.76923077 70.66666667 49.13333333 50.7\n",
      " 76.08333333 35.33333333 42.85714286 44.         85.         81.4\n",
      " 42.16666667 72.76923077 98.78571429 70.66666667 75.9        75.16666667\n",
      " 46.6        57.04166667 50.7        43.5        89.66666667 50.85714286\n",
      " 40.33333333 91.33333333 72.26315789 75.9        82.34782609 64.79166667\n",
      " 49.13333333 61.8        57.04166667 70.45454545 28.         69.\n",
      " 89.07692308 63.91666667 66.04761905 52.85714286 92.5        76.85714286\n",
      " 59.47058824 85.9375     63.91666667 63.91666667 81.375      66.04761905\n",
      " 97.5        98.78571429 77.92857143 42.16666667 43.         57.04166667\n",
      " 50.7        76.85714286 54.13333333 59.47058824 86.22222222 75.16666667\n",
      " 72.76923077 68.61538462]\n"
     ]
    }
   ],
   "source": [
    "y_pred = regressor.predict(y_test)\n",
    "print(y_pred)"
   ]
  },
  {
   "cell_type": "code",
   "execution_count": 14,
   "metadata": {},
   "outputs": [
    {
     "ename": "TypeError",
     "evalue": "unsupported operand type(s) for -: 'str' and 'str'",
     "output_type": "error",
     "traceback": [
      "\u001b[1;31m---------------------------------------------------------------------------\u001b[0m",
      "\u001b[1;31mTypeError\u001b[0m                                 Traceback (most recent call last)",
      "\u001b[1;32m<ipython-input-14-41976e0d3923>\u001b[0m in \u001b[0;36m<module>\u001b[1;34m\u001b[0m\n\u001b[0;32m      1\u001b[0m \u001b[1;31m# Visualising the Decision Tree Regression results (higher resolution)\u001b[0m\u001b[1;33m\u001b[0m\u001b[1;33m\u001b[0m\u001b[1;33m\u001b[0m\u001b[0m\n\u001b[1;32m----> 2\u001b[1;33m \u001b[0mX_grid\u001b[0m \u001b[1;33m=\u001b[0m \u001b[0mnp\u001b[0m\u001b[1;33m.\u001b[0m\u001b[0marange\u001b[0m\u001b[1;33m(\u001b[0m\u001b[0mmin\u001b[0m\u001b[1;33m(\u001b[0m\u001b[0mX\u001b[0m\u001b[1;33m)\u001b[0m\u001b[1;33m,\u001b[0m \u001b[0mmax\u001b[0m\u001b[1;33m(\u001b[0m\u001b[0mX\u001b[0m\u001b[1;33m)\u001b[0m\u001b[1;33m,\u001b[0m \u001b[1;36m0.01\u001b[0m\u001b[1;33m)\u001b[0m\u001b[1;33m\u001b[0m\u001b[1;33m\u001b[0m\u001b[0m\n\u001b[0m\u001b[0;32m      3\u001b[0m \u001b[0mX_grid\u001b[0m \u001b[1;33m=\u001b[0m \u001b[0mX_grid\u001b[0m\u001b[1;33m.\u001b[0m\u001b[0mreshape\u001b[0m\u001b[1;33m(\u001b[0m\u001b[1;33m(\u001b[0m\u001b[0mlen\u001b[0m\u001b[1;33m(\u001b[0m\u001b[0mX_grid\u001b[0m\u001b[1;33m)\u001b[0m\u001b[1;33m,\u001b[0m \u001b[1;36m1\u001b[0m\u001b[1;33m)\u001b[0m\u001b[1;33m)\u001b[0m\u001b[1;33m\u001b[0m\u001b[1;33m\u001b[0m\u001b[0m\n\u001b[0;32m      4\u001b[0m \u001b[0mplt\u001b[0m\u001b[1;33m.\u001b[0m\u001b[0mscatter\u001b[0m\u001b[1;33m(\u001b[0m\u001b[0mX\u001b[0m\u001b[1;33m,\u001b[0m \u001b[0my\u001b[0m\u001b[1;33m,\u001b[0m \u001b[0mcolor\u001b[0m \u001b[1;33m=\u001b[0m \u001b[1;34m'red'\u001b[0m\u001b[1;33m)\u001b[0m\u001b[1;33m\u001b[0m\u001b[1;33m\u001b[0m\u001b[0m\n\u001b[0;32m      5\u001b[0m \u001b[0mplt\u001b[0m\u001b[1;33m.\u001b[0m\u001b[0mplot\u001b[0m\u001b[1;33m(\u001b[0m\u001b[0mX_grid\u001b[0m\u001b[1;33m,\u001b[0m \u001b[0mregressor\u001b[0m\u001b[1;33m.\u001b[0m\u001b[0mpredict\u001b[0m\u001b[1;33m(\u001b[0m\u001b[0mX_grid\u001b[0m\u001b[1;33m)\u001b[0m\u001b[1;33m,\u001b[0m \u001b[0mcolor\u001b[0m \u001b[1;33m=\u001b[0m \u001b[1;34m'blue'\u001b[0m\u001b[1;33m)\u001b[0m\u001b[1;33m\u001b[0m\u001b[1;33m\u001b[0m\u001b[0m\n",
      "\u001b[1;31mTypeError\u001b[0m: unsupported operand type(s) for -: 'str' and 'str'"
     ]
    }
   ],
   "source": [
    "# Visualising the Decision Tree Regression results (higher resolution)\n",
    "X_grid = np.arange(min(X_), max(X), 0.01)\n",
    "X_grid = X_grid.reshape((len(X_grid), 1))\n",
    "plt.scatter(X, y, color = 'red')\n",
    "plt.plot(X_grid, regressor.predict(X_grid), color = 'blue')\n",
    "plt.title('Truth or Bluff (Decision Tree Regression)')\n",
    "plt.xlabel('Position level')\n",
    "plt.ylabel('Salary')\n",
    "plt.show()"
   ]
  },
  {
   "cell_type": "code",
   "execution_count": null,
   "metadata": {},
   "outputs": [],
   "source": []
  }
 ],
 "metadata": {
  "kernelspec": {
   "display_name": "Python 3",
   "language": "python",
   "name": "python3"
  },
  "language_info": {
   "codemirror_mode": {
    "name": "ipython",
    "version": 3
   },
   "file_extension": ".py",
   "mimetype": "text/x-python",
   "name": "python",
   "nbconvert_exporter": "python",
   "pygments_lexer": "ipython3",
   "version": "3.7.6"
  }
 },
 "nbformat": 4,
 "nbformat_minor": 4
}
